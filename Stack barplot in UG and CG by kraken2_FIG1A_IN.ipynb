{
 "cells": [
  {
   "cell_type": "code",
   "execution_count": 1,
   "id": "7b1d8fad",
   "metadata": {},
   "outputs": [],
   "source": [
    "import seaborn as sns\n",
    "import pandas as pd\n",
    "import matplotlib.pyplot as plt"
   ]
  },
  {
   "cell_type": "code",
   "execution_count": 2,
   "id": "8fdded0c",
   "metadata": {},
   "outputs": [],
   "source": [
    "dd=pd.read_csv(r\"D:\\Workstation\\cMECOS-upload-data\\for_barplot.tsv\",sep=\"\\t\")"
   ]
  },
  {
   "cell_type": "code",
   "execution_count": 3,
   "id": "a6889ad9",
   "metadata": {},
   "outputs": [],
   "source": [
    "plt.rc('font',family='Arial') "
   ]
  },
  {
   "cell_type": "code",
   "execution_count": 4,
   "id": "0ff5f4e4",
   "metadata": {},
   "outputs": [
    {
     "data": {
      "text/plain": [
       "Text(0.5, 0, 'Samples')"
      ]
     },
     "execution_count": 4,
     "metadata": {},
     "output_type": "execute_result"
    },
    {
     "data": {
      "image/png": "[encoded data removed]",
      "text/plain": [
       "<Figure size 432x288 with 1 Axes>"
      ]
     },
     "metadata": {
      "needs_background": "light"
     },
     "output_type": "display_data"
    }
   ],
   "source": [
    "plt.bar(dd[dd.Type==\"Only in UG\"][\"People\"],dd[dd.Type==\"Only in UG\"][\"Values\"],align=\"center\",label=\"Only in UG\",color=\"#b5d2e2\")\n",
    "plt.bar(dd[dd.Type==\"Share\"][\"People\"],dd[dd.Type==\"Share\"][\"Values\"],align=\"center\",bottom=dd[dd.Type==\"Only in UG\"][\"Values\"],label=\"Share\",color=\"#d8ded6\")\n",
    "plt.bar(dd[dd.Type==\"Only in CG\"][\"People\"],dd[dd.Type==\"Only in CG\"][\"Values\"],align=\"center\",bottom=[x+y for x,y in zip(dd[dd.Type==\"Only in UG\"][\"Values\"],dd[dd.Type==\"Share\"][\"Values\"])],label=\"Only in CG\",color=\"#e6cebc\")\n",
    "plt.legend()\n",
    "plt.xticks([])\n",
    "plt.yticks([2000,4000])\n",
    "plt.ylabel(\"Number of species\")\n",
    "plt.xlabel(\"Samples\")\n",
    "# plt.savefig(\"kraken2_CG_UG_share.pdf\")"
   ]
  },
  {
   "cell_type": "code",
   "execution_count": null,
   "id": "28d12ce8",
   "metadata": {},
   "outputs": [],
   "source": []
  }
 ],
 "metadata": {
  "kernelspec": {
   "display_name": "Python 3",
   "language": "python",
   "name": "python3"
  },
  "language_info": {
   "codemirror_mode": {
    "name": "ipython",
    "version": 3
   },
   "file_extension": ".py",
   "mimetype": "text/x-python",
   "name": "python",
   "nbconvert_exporter": "python",
   "pygments_lexer": "ipython3",
   "version": "3.8.5"
  }
 },
 "nbformat": 4,
 "nbformat_minor": 5
}
