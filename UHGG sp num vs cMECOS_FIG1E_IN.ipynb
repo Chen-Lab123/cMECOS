{
 "cells": [
  {
   "cell_type": "code",
   "execution_count": 2,
   "metadata": {},
   "outputs": [],
   "source": [
    "import pandas as pd\n",
    "import numpy as np\n",
    "import seaborn as sns\n",
    "import matplotlib.pyplot as plt\n",
    "from statannot import add_stat_annotation"
   ]
  },
  {
   "cell_type": "code",
   "execution_count": 3,
   "metadata": {},
   "outputs": [],
   "source": [
    "plt.rc('font',family='Arial') "
   ]
  },
  {
   "cell_type": "code",
   "execution_count": 4,
   "metadata": {},
   "outputs": [],
   "source": [
    "bin_data=pd.read_csv(r\"D:\\Workstation\\cMECOS-upload-data\\Table S3.csv\")"
   ]
  },
  {
   "cell_type": "code",
   "execution_count": 5,
   "metadata": {},
   "outputs": [],
   "source": [
    "#load metadata from UHGG2.0\n",
    "UHGG=pd.read_csv(r\"D:\\Workstation\\cMECOS-upload-data\\genomes-all_metadata.tsv\",sep=\"\\t\")"
   ]
  },
  {
   "cell_type": "code",
   "execution_count": 6,
   "metadata": {},
   "outputs": [],
   "source": [
    "#add one new column as species\n",
    "UHGG[\"sp\"]=[i[0] for i in UHGG.Lineage.str.findall(\"s__.*\")]"
   ]
  },
  {
   "cell_type": "code",
   "execution_count": 7,
   "metadata": {},
   "outputs": [],
   "source": [
    "#only inculde the MAG data\n",
    "UHGG_MAG_SP=UHGG[UHGG.Genome_type!=\"Isolate\"][UHGG[UHGG.Genome_type!=\"Isolate\"][\"sp\"]!=\"s__\"]"
   ]
  },
  {
   "cell_type": "code",
   "execution_count": 8,
   "metadata": {},
   "outputs": [],
   "source": [
    "#dereplicated the same species\n",
    "UHGG_MAG_Sample_unique_sp_count=[len(i) for i in UHGG_MAG_SP.groupby(\"Sample_accession\")[\"sp\"].unique()]"
   ]
  },
  {
   "cell_type": "code",
   "execution_count": 9,
   "metadata": {},
   "outputs": [],
   "source": [
    "#remove the outliers before plot"
   ]
  },
  {
   "cell_type": "code",
   "execution_count": 10,
   "metadata": {},
   "outputs": [],
   "source": [
    "UHGG_MAGS_sample_size=pd.DataFrame(UHGG_MAG_Sample_unique_sp_count)\n",
    "\n",
    "IQR=UHGG_MAGS_sample_size.quantile(0.75)-UHGG_MAGS_sample_size.quantile(0.25)\n",
    "UP_thr=UHGG_MAGS_sample_size.quantile(0.75)+1.5*IQR\n",
    "DOWN_thr=UHGG_MAGS_sample_size.quantile(0.25)-1.5*IQR\n",
    "\n",
    "UHGG_MAGS_sample_size_Fil=UHGG_MAGS_sample_size[(UHGG_MAGS_sample_size>DOWN_thr) & (UHGG_MAGS_sample_size<UP_thr)]"
   ]
  },
  {
   "cell_type": "code",
   "execution_count": 11,
   "metadata": {},
   "outputs": [],
   "source": [
    "# remove all unclassifed species\n",
    "bin_data_known=bin_data[bin_data[\"Species\"]!=\"s__\"]"
   ]
  },
  {
   "cell_type": "code",
   "execution_count": 12,
   "metadata": {},
   "outputs": [],
   "source": [
    "cMECOS_MAGS_sample_size=pd.DataFrame([len(i) for i in bin_data_known.groupby(\"People\")[\"Species\"].unique()])\n",
    "IQR=cMECOS_MAGS_sample_size.quantile(0.75)-cMECOS_MAGS_sample_size.quantile(0.25)\n",
    "UP_thr=cMECOS_MAGS_sample_size.quantile(0.75)+1.5*IQR\n",
    "DOWN_thr=cMECOS_MAGS_sample_size.quantile(0.25)-1.5*IQR\n",
    "\n",
    "cMECOS_MAGS_sample_size_Fil=cMECOS_MAGS_sample_size[(cMECOS_MAGS_sample_size>DOWN_thr) & (cMECOS_MAGS_sample_size<UP_thr)]"
   ]
  },
  {
   "cell_type": "code",
   "execution_count": 13,
   "metadata": {},
   "outputs": [],
   "source": [
    "UHGG_MAGS_sample_size_plot=pd.DataFrame(UHGG_MAGS_sample_size_Fil)\n",
    "UHGG_MAGS_sample_size_plot.columns=[\"size\"]\n",
    "UHGG_MAGS_sample_size_plot[\"type\"]=\"UHGG\"\n",
    "\n",
    "cMECOS_MAGS_sample_size_plot=pd.DataFrame(cMECOS_MAGS_sample_size_Fil)\n",
    "cMECOS_MAGS_sample_size_plot.columns=[\"size\"]\n",
    "cMECOS_MAGS_sample_size_plot[\"type\"]=\"cMECOS\""
   ]
  },
  {
   "cell_type": "code",
   "execution_count": 14,
   "metadata": {},
   "outputs": [],
   "source": [
    "box_data=pd.concat([cMECOS_MAGS_sample_size_plot,UHGG_MAGS_sample_size_plot])"
   ]
  },
  {
   "cell_type": "code",
   "execution_count": 52,
   "metadata": {},
   "outputs": [
    {
     "name": "stdout",
     "output_type": "stream",
     "text": [
      "p-value annotation legend:\n",
      "ns: 5.00e-02 < p <= 1.00e+00\n",
      "*: 1.00e-02 < p <= 5.00e-02\n",
      "**: 1.00e-03 < p <= 1.00e-02\n",
      "***: 1.00e-04 < p <= 1.00e-03\n",
      "****: p <= 1.00e-04\n",
      "\n",
      "cMECOS v.s. UHGG: Mann-Whitney-Wilcoxon test two-sided with Bonferroni correction, P_val=2.692e-04 U_stat=1.260e+05\n"
     ]
    },
    {
     "data": {
      "image/png": "[encoded data removed]",
      "text/plain": [
       "<Figure size 216x432 with 1 Axes>"
      ]
     },
     "metadata": {
      "needs_background": "light"
     },
     "output_type": "display_data"
    }
   ],
   "source": [
    "plt.figure(figsize=[3,6])\n",
    "zz=sns.barplot(data=box_data,x=\"type\",y=\"size\",orient=\"v\",palette=[\"#adc7d9\",\"#e1c4af\"],order=[\"UHGG\",\"cMECOS\"])\n",
    "add_stat_annotation(zz,data=box_data,x=\"type\",y=\"size\",box_pairs=[ (\"UHGG\",\"cMECOS\")],test=\"Mann-Whitney\",text_format='star', loc='inside',fontsize=15)\n",
    "plt.ylabel(\"Number of speceis per sample\")\n",
    "plt.savefig(\"additional_sp_vsHUGG_barplot.pdf\")"
   ]
  },
  {
   "cell_type": "code",
   "execution_count": 15,
   "metadata": {},
   "outputs": [
    {
     "data": {
      "text/html": [
       "<div>\n",
       "<style scoped>\n",
       "    .dataframe tbody tr th:only-of-type {\n",
       "        vertical-align: middle;\n",
       "    }\n",
       "\n",
       "    .dataframe tbody tr th {\n",
       "        vertical-align: top;\n",
       "    }\n",
       "\n",
       "    .dataframe thead th {\n",
       "        text-align: right;\n",
       "    }\n",
       "</style>\n",
       "<table border=\"1\" class=\"dataframe\">\n",
       "  <thead>\n",
       "    <tr style=\"text-align: right;\">\n",
       "      <th></th>\n",
       "      <th>size</th>\n",
       "    </tr>\n",
       "    <tr>\n",
       "      <th>type</th>\n",
       "      <th></th>\n",
       "    </tr>\n",
       "  </thead>\n",
       "  <tbody>\n",
       "    <tr>\n",
       "      <th>UHGG</th>\n",
       "      <td>13.894487</td>\n",
       "    </tr>\n",
       "    <tr>\n",
       "      <th>cMECOS</th>\n",
       "      <td>25.083333</td>\n",
       "    </tr>\n",
       "  </tbody>\n",
       "</table>\n",
       "</div>"
      ],
      "text/plain": [
       "             size\n",
       "type             \n",
       "UHGG    13.894487\n",
       "cMECOS  25.083333"
      ]
     },
     "execution_count": 15,
     "metadata": {},
     "output_type": "execute_result"
    }
   ],
   "source": [
    "# count the average of species number per sample in UHGG and cMECOS\n",
    "box_data.groupby(\"type\").mean()"
   ]
  }
 ],
 "metadata": {
  "kernelspec": {
   "display_name": "Python 3",
   "language": "python",
   "name": "python3"
  },
  "language_info": {
   "codemirror_mode": {
    "name": "ipython",
    "version": 3
   },
   "file_extension": ".py",
   "mimetype": "text/x-python",
   "name": "python",
   "nbconvert_exporter": "python",
   "pygments_lexer": "ipython3",
   "version": "3.8.5"
  }
 },
 "nbformat": 4,
 "nbformat_minor": 4
}
